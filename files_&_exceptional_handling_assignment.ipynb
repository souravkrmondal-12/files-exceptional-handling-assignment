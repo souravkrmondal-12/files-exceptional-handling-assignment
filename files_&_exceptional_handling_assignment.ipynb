{
  "nbformat": 4,
  "nbformat_minor": 0,
  "metadata": {
    "colab": {
      "provenance": []
    },
    "kernelspec": {
      "name": "python3",
      "display_name": "Python 3"
    },
    "language_info": {
      "name": "python"
    }
  },
  "cells": [
    {
      "cell_type": "markdown",
      "source": [
        "#Q1.What is the difference between interpreted and compiled languages?\n",
        "\n",
        "------\n",
        "\n",
        "The difference between interpreted and compiled languages lies in how their code is translated into machine code.\n",
        "\n",
        "Translation: The entire program is translated before execution by a compiler into machine code.\n",
        "\n",
        "Execution: The resulting binary (e.g., .exe file) is executed directly by the computer.\n",
        "\n",
        "Performance: Generally faster, since the translation is done once and the machine code runs directly.\n",
        "\n",
        "Eg: C, C++, Rust,\n",
        "\n",
        "| Feature          | Compiled Language             | Interpreted Language           |\n",
        "| ---------------- | ----------------------------- | ------------------------------ |\n",
        "| Translation Time | Before execution              | During execution               |\n",
        "| Speed            | Faster                        | Slower                         |\n",
        "| Error Checking   | At compile-time               | At runtime                     |\n",
        "| Portability      | Needs platform-specific build | Cross-platform via interpreter |\n",
        "| Distribution     | Binary (no source needed)     | Requires source code           |\n"
      ],
      "metadata": {
        "id": "Uw2p7gUfQA4k"
      }
    },
    {
      "cell_type": "markdown",
      "source": [
        "#Q2. What is exception handling in Python ?\n",
        "\n",
        "-----\n",
        "\n",
        "Exception handling in Python is a mechanism that allows you to respond to errors gracefully during program execution, instead of crashing the program when something goes wrong.\n",
        "\n",
        "💥 What is an Exception?\n",
        "An exception is an error that occurs at runtime (while the program is running), such as:\n",
        "\n",
        "Division by zero (ZeroDivisionError)\n",
        "\n",
        "Accessing a missing file (FileNotFoundError)\n",
        "\n",
        "Using an undefined variable (NameError)\n",
        "\n",
        "Converting invalid input (ValueError)\n",
        "\n"
      ],
      "metadata": {
        "id": "BwS1AaaMRFSA"
      }
    },
    {
      "cell_type": "code",
      "source": [
        "try:\n",
        "    x = int(input(\"Enter a number: \"))\n",
        "    print(10 / x)\n",
        "except ZeroDivisionError:\n",
        "    print(\"You can't divide by zero!\")\n",
        "except ValueError:\n",
        "    print(\"That's not a valid number.\")\n"
      ],
      "metadata": {
        "colab": {
          "base_uri": "https://localhost:8080/"
        },
        "id": "ygD1GlByRWKf",
        "outputId": "bb8b3256-4d1f-48ad-8a86-acc01b2a5516"
      },
      "execution_count": null,
      "outputs": [
        {
          "output_type": "stream",
          "name": "stdout",
          "text": [
            "Enter a number: 10\n",
            "1.0\n"
          ]
        }
      ]
    },
    {
      "cell_type": "markdown",
      "source": [
        "#Q3.What is the purpose of the finally block in exception handling.\n",
        "\n",
        "----\n",
        "\n",
        "The finally block in Python exception handling is used to define code that should always run, no matter what happens in the try or except blocks.\n",
        "\n",
        "✅ Purpose of the finally Block\n",
        "Ensures cleanup actions are executed (eg. closing a file, releasing a resource).\n",
        "\n",
        "Runs whether an exception is raised or not.\n",
        "\n",
        "Helps maintain resource integrity and prevent leaks.\n",
        "\n"
      ],
      "metadata": {
        "id": "CK8pYHxHSXxN"
      }
    },
    {
      "cell_type": "code",
      "source": [
        "try:\n",
        "    file = open(\"my_file.txt\", \"r\")\n",
        "    content = file.read()\n",
        "    print(content)\n",
        "except FileNotFoundError:\n",
        "    print(\"Error: The file was not found.\")\n",
        "finally:\n",
        "\n",
        "    if 'file' in locals() and not file.closed:\n",
        "        file.close()\n",
        "        print(\"File closed.\")\n"
      ],
      "metadata": {
        "colab": {
          "base_uri": "https://localhost:8080/"
        },
        "id": "GTKGe9i0TCvr",
        "outputId": "b5eb91b3-da0f-4e38-af7d-f34b44fbd124"
      },
      "execution_count": null,
      "outputs": [
        {
          "output_type": "stream",
          "name": "stdout",
          "text": [
            "Error: The file was not found.\n"
          ]
        }
      ]
    },
    {
      "cell_type": "markdown",
      "source": [
        "#Q4. What is logging in Python ?\n",
        "\n",
        "---\n",
        "Logging in Python is a built-in way to track events that happen when your program runs. It's used for:\n",
        "\n",
        "Debugging\n",
        "\n",
        "Monitoring application behavior\n",
        "\n",
        "Diagnosing problems\n",
        "\n",
        "Recording usage or errors\n",
        "\n",
        "Instead of using print() statements, which are temporary and cluttered, logging provides a structured and flexible system for writing messages with different levels of importance.\n",
        "\n",
        "| `print()`                | `logging`                               |\n",
        "| ------------------------ | --------------------------------------- |\n",
        "| Good for quick debugging | Good for real applications              |\n",
        "| Hard to disable/remove   | Can easily control what gets logged     |\n",
        "| No severity levels       | Supports levels like DEBUG, INFO, ERROR |\n",
        "| No timestamps            | Automatically includes timestamps, etc. |\n"
      ],
      "metadata": {
        "id": "NJHYT5ZcTJH6"
      }
    },
    {
      "cell_type": "code",
      "source": [
        "import logging\n",
        "\n",
        "logging.basicConfig(level=logging.INFO)\n",
        "logging.info(\"This is an info message\")\n",
        "logging.warning(\"This is a warning\")\n",
        "logging.error(\"This is an error\")\n"
      ],
      "metadata": {
        "colab": {
          "base_uri": "https://localhost:8080/"
        },
        "id": "Na8ugerXTa9Z",
        "outputId": "f4b4090c-ee6f-428b-fe7a-00694c284425"
      },
      "execution_count": null,
      "outputs": [
        {
          "output_type": "stream",
          "name": "stderr",
          "text": [
            "WARNING:root:This is a warning\n",
            "ERROR:root:This is an error\n"
          ]
        }
      ]
    },
    {
      "cell_type": "markdown",
      "source": [
        "#Q5.What is the significance of the __del__ method in Python?\n",
        "\n",
        "------\n",
        "\n",
        "The __del__ method in Python is a special method called a destructor. It is automatically invoked when an object is about to be destroyed — that is, when there are no more references to it."
      ],
      "metadata": {
        "id": "DRYGV3_jTlfY"
      }
    },
    {
      "cell_type": "code",
      "source": [
        "class MyClass:\n",
        "    def __init__(self, name):\n",
        "        self.name = name\n",
        "        print(f\"Object {self.name} created.\")\n",
        "\n",
        "    def __del__(self):\n",
        "        print(f\"Object {self.name} is being destroyed.\")\n",
        "\n",
        "obj = MyClass(\"A\")\n",
        "del obj\n"
      ],
      "metadata": {
        "colab": {
          "base_uri": "https://localhost:8080/"
        },
        "id": "X8AVcuvwT4E_",
        "outputId": "e2855967-263c-408c-86a6-beffb9c0f539"
      },
      "execution_count": null,
      "outputs": [
        {
          "output_type": "stream",
          "name": "stdout",
          "text": [
            "Object A created.\n",
            "Object A is being destroyed.\n"
          ]
        }
      ]
    },
    {
      "cell_type": "markdown",
      "source": [
        "#Q6. What is the difference between import and from ... import in Python?\n",
        "\n",
        "-----\n",
        "\n",
        "import and from ... import are used to bring in external modules or specific components of modules, but they work differently in terms of what gets imported and how you access it.\n",
        "\n",
        "| Feature               | `import module`                                    | `from module import name`       |\n",
        "| --------------------- | -------------------------------------------------- | ------------------------------- |\n",
        "| What it imports       | The entire module                                  | Only specific functions/classes |\n",
        "| How to access content | `module.name`                                      | Just `name`                     |\n",
        "| Namespace pollution   | Minimal (one module name)                          | Higher risk (adds more names)   |\n",
        "| Readability           | Clear where things come from                       | Less clear if overused          |\n",
        "| Performance           | No significant difference (minor in large modules) |                                 |\n"
      ],
      "metadata": {
        "id": "IfSXPTK3T9Lv"
      }
    },
    {
      "cell_type": "code",
      "source": [
        "import random\n",
        "print(random.randint(1, 10))\n",
        "\n",
        "from random import randint\n",
        "print(randint(1, 10))\n"
      ],
      "metadata": {
        "colab": {
          "base_uri": "https://localhost:8080/"
        },
        "id": "bxJyh535UYsu",
        "outputId": "91377475-5f69-4140-9651-9ee482275c52"
      },
      "execution_count": null,
      "outputs": [
        {
          "output_type": "stream",
          "name": "stdout",
          "text": [
            "8\n",
            "10\n"
          ]
        }
      ]
    },
    {
      "cell_type": "markdown",
      "source": [
        "#Q7.How can you handle multiple exceptions in Python?\n",
        "\n",
        "you can handle multiple exceptions using a few different patterns, depending on how you want to respond to them. Here's how to do it:\n",
        "\n"
      ],
      "metadata": {
        "id": "1nyn5taoUdWF"
      }
    },
    {
      "cell_type": "code",
      "source": [
        "## Handle Multiple Exceptions with a Single except Block (Tuple)\n",
        "#If you want to perform the same action for several different exceptions, you can group them in a tuple:\n",
        "try:\n",
        "    file_path = \"non_existent_file.txt\"\n",
        "    with open(file_path, 'r') as file:\n",
        "        content = file.read()\n",
        "except (FileNotFoundError, PermissionError):\n",
        "    print(f\"Error accessing the file: {file_path}\")\n",
        "except Exception as e: # Catch any other unexpected errors\n",
        "    print(f\"An unexpected error occurred: {e}\")\n"
      ],
      "metadata": {
        "colab": {
          "base_uri": "https://localhost:8080/"
        },
        "id": "fIHB3iwHU9Sk",
        "outputId": "f49471b8-14bc-4cb7-ebd0-2b04c5e33b98"
      },
      "execution_count": null,
      "outputs": [
        {
          "output_type": "stream",
          "name": "stdout",
          "text": [
            "Error accessing the file: non_existent_file.txt\n"
          ]
        }
      ]
    },
    {
      "cell_type": "code",
      "source": [
        "#Handle Multiple Exceptions and Access the Exception Object\n",
        "#If you need to access the specific exception object within the except block (e.g., to print the error message), you can do so:\n",
        "try:\n",
        "    my_list = [1, 2]\n",
        "    index = int(input(\"Enter an index: \"))\n",
        "    value = my_list[index]\n",
        "    print(value)\n",
        "except (ValueError, IndexError) as e:\n",
        "    print(f\"An error occurred: {e}\")\n",
        "    print(f\"Error type: {type(e).__name__}\")"
      ],
      "metadata": {
        "colab": {
          "base_uri": "https://localhost:8080/"
        },
        "id": "5Ys9r75cVlYK",
        "outputId": "8a3957c4-74ba-4bd1-fca4-327a539e8580"
      },
      "execution_count": null,
      "outputs": [
        {
          "output_type": "stream",
          "name": "stdout",
          "text": [
            "Enter an index: 5\n",
            "An error occurred: list index out of range\n",
            "Error type: IndexError\n"
          ]
        }
      ]
    },
    {
      "cell_type": "markdown",
      "source": [
        "#Q8.What is the purpose of the with statement when handling files in Python ?\n",
        "\n",
        "-----\n",
        "\n",
        "The with statement in Python simplifies file handling by ensuring that files are properly opened and closed, even if errors occur. It eliminates the need for explicit try...finally blocks to manage resources. When a file is opened using with, it automatically calls the __enter__ method upon entry and the __exit__ method upon exit, which handles closing the file. This ensures that the file is closed correctly, preventing resource leaks and potential data corruption.\n",
        "\n"
      ],
      "metadata": {
        "id": "5yKaZy0-V8vp"
      }
    },
    {
      "cell_type": "markdown",
      "source": [
        "#Q9. What is the difference between multithreading and multiprocessing?\n",
        "\n",
        "----\n",
        "\n",
        "The difference between multithreading and multiprocessing in Python lies in how they handle concurrent execution and how they interact with the CPU and memory.\n",
        "\n",
        "\n",
        "🔁 Multithreading :  Multiple threads (lightweight units) run within a single process.\n",
        "\n",
        "Shared memory: All threads share the same memory space.\n",
        "\n",
        "Use case: Best for I/O-bound tasks (e.g., file I/O, network calls) where the program spends time waiting.\n",
        "\n",
        "Limitation in Python: A feature called the Global Interpreter Lock (GIL) prevents true parallel execution of Python threads on multiple CPU cores.\n",
        "\n",
        "\n",
        "🔁 Multiprocessing : Uses multiple processes, each with its own Python interpreter and memory space.\n",
        "\n",
        "Truly parallel: Each process runs on a separate CPU core, bypassing the GIL.\n",
        "\n",
        "Use case: Best for CPU-bound tasks (e.g., heavy computation, data processing).\n",
        "\n",
        "Overhead: More memory and communication overhead due to isolated processes.\n",
        "\n"
      ],
      "metadata": {
        "id": "ART9cOUvXAtf"
      }
    },
    {
      "cell_type": "code",
      "source": [
        "import multiprocessing\n",
        "\n",
        "def print_numbers():\n",
        "    for i in range(5):\n",
        "        print(i)\n",
        "\n",
        "p = multiprocessing.Process(target=print_numbers)\n",
        "p.start()\n"
      ],
      "metadata": {
        "colab": {
          "base_uri": "https://localhost:8080/"
        },
        "id": "7RyabdY_YAST",
        "outputId": "393b35f5-120a-4535-e8f4-4131d8f5285f"
      },
      "execution_count": null,
      "outputs": [
        {
          "output_type": "stream",
          "name": "stdout",
          "text": [
            "0"
          ]
        }
      ]
    },
    {
      "cell_type": "code",
      "source": [
        "import threading\n",
        "\n",
        "def print_numbers():\n",
        "    for i in range(5):\n",
        "        print(i)\n",
        "\n",
        "t = threading.Thread(target=print_numbers)\n",
        "t.start()\n"
      ],
      "metadata": {
        "colab": {
          "base_uri": "https://localhost:8080/"
        },
        "id": "EVk7MxnsYbs6",
        "outputId": "2e3f3d88-7d7d-41a6-b1e0-0882536b95c8"
      },
      "execution_count": null,
      "outputs": [
        {
          "output_type": "stream",
          "name": "stdout",
          "text": [
            "0\n",
            "1\n",
            "2\n",
            "3\n",
            "4\n"
          ]
        }
      ]
    },
    {
      "cell_type": "markdown",
      "source": [
        "#Q10.What are the advantages of using logging in a program?\n",
        "\n",
        "\n",
        "----\n",
        "\n",
        "logging in a Python program offers many advantages over simple debugging tools like print() statements. It helps in building robust, maintainable, and scalable applications.\n",
        "\n",
        "Advantages of Logging ▶\n",
        "\n",
        "\n",
        "🔁Tracks What Happens During Execution :\n",
        "\n",
        "Logging helps record important events in your program — such as errors, warnings, or normal operations — while the program is running.\n",
        "\n",
        "Eg: Log when a user logs in, a payment is processed, or an error occurs.\n",
        "\n",
        "\n",
        "🔁 Provides Different Levels of Importance\n",
        "Python’s logging module supports multiple log levels:\n",
        "\n",
        "DEBUG: Detailed info, mainly for developers\n",
        "\n",
        "INFO: General events confirming things work as expected\n",
        "\n",
        "WARNING: Something unexpected, but program still runs\n",
        "\n",
        "ERROR: Serious problem, part of the program fails\n",
        "\n",
        "CRITICAL: Very serious error, possibly shutting down the program\n",
        "\n",
        "🔁3. Easily Switchable Output\n",
        "You can log to the console, a file, a database, or even an email server — with just a few lines of setup.\n",
        "\n",
        "No need to change the actual logging statements.\n",
        "\n",
        "| Feature           | `print()` | `logging`                   |\n",
        "| ----------------- | --------- | --------------------------- |\n",
        "| Debugging info    | Temporary | Structured, saved           |\n",
        "| Control verbosity | No        | Yes (`DEBUG`, `INFO`, etc.) |\n",
        "| Output to files   | Manually  | Built-in support            |\n",
        "| Turn off easily   | No        | Yes (`setLevel()`)          |\n"
      ],
      "metadata": {
        "id": "msvgVlHHYeS6"
      }
    },
    {
      "cell_type": "markdown",
      "source": [
        "#Q11.What is memory management in Python?\n",
        "\n",
        "-----\n",
        "\n",
        "Memory management in Python refers to the process of efficiently managing the memory used by Python objects during the execution of a program. It includes tasks such as allocating memory for objects, freeing memory when it is no longer needed, and ensuring that objects are used in an optimal way to avoid memory leaks and inefficient memory usage.\n",
        "\n",
        "Python handles memory management automatically, but understanding the underlying mechanisms can help you write more efficient code.\n",
        "\n",
        "🔁 Summary of memory management\n",
        "\n",
        "| Feature                     | Description                                                                               |\n",
        "| --------------------------- | ------------------------- ------------------------- --------------------------------------- |\n",
        "| Automatic Memory Management | Python automatically manages memory using reference counting and garbage collection       |\n",
        "| Garbage Collection          | Handles the cleanup of objects no longer in use, including those with circular references |\n",
        "| Memory Allocation           | Objects are allocated on the heap, while function calls use the stack                     |\n",
        "| Object Reuse                | Python optimizes memory usage by reusing small integers and interned strings              |\n",
        "| Memory Leaks                | Can still occur, especially with circular references or global variables                  |\n",
        "| Manual Memory Control       | Use `del`, `gc.collect()`, and memory profiling tools for advanced control                |\n"
      ],
      "metadata": {
        "id": "IN6T7W7CZWu3"
      }
    },
    {
      "cell_type": "markdown",
      "source": [
        "#Q12. What are the basic steps involved in exception handling in Python?\n",
        "\n",
        "------\n",
        "▶Exception handling in Python involves a structured approach to manage errors that may arise during the execution of a program. The basic steps are:\n",
        "\n",
        "▶Try Block:\n",
        "Enclose the code that might raise an exception within a try block. This signifies the section of code where potential errors are anticipated.\n",
        "\n",
        "▶Except Block(s):\n",
        "Follow the try block with one or more except blocks. Each except block specifies the type of exception it handles and contains the code to be executed if that specific exception occurs. It's possible to have multiple except blocks to handle different types of exceptions.\n",
        "\n",
        "▶Optional Else Block:\n",
        "After the except blocks, an optional else block can be included. The code within the else block executes if no exceptions were raised in the try block. This is useful for code that should only run if the try block completed successfully.\n",
        "\n",
        "▶Optional Finally Block:\n",
        "Finally, an optional finally block can be added. The code within the finally block always executes, regardless of whether an exception was raised or caught. It's commonly used for cleanup actions, such as closing files or releasing resources.\n",
        "\n",
        "▶Raise Exceptions:\n",
        "In situations where a specific condition warrants it, exceptions can be raised manually using the raise keyword. This allows for custom error handling and control flow."
      ],
      "metadata": {
        "id": "sTVVAq8eaMzW"
      }
    },
    {
      "cell_type": "code",
      "source": [
        "try:\n",
        "\n",
        "    result = 10 / 0\n",
        "except ZeroDivisionError:\n",
        "\n",
        "    print(\"Cannot divide by zero.\")\n",
        "except TypeError:\n",
        "\n",
        "    print(\"Type error occurred.\")\n",
        "else:\n",
        "\n",
        "    print(\"Division successful.\")\n",
        "finally:\n",
        "\n",
        "    print(\"Execution complete.\")"
      ],
      "metadata": {
        "colab": {
          "base_uri": "https://localhost:8080/"
        },
        "id": "mFmZnzKia8c7",
        "outputId": "84035c23-ba59-4e5f-dc8b-8088393717a3"
      },
      "execution_count": null,
      "outputs": [
        {
          "output_type": "stream",
          "name": "stdout",
          "text": [
            "Cannot divide by zero.\n",
            "Execution complete.\n"
          ]
        }
      ]
    },
    {
      "cell_type": "markdown",
      "source": [
        "#Q13.Why is memory management important in Python?\n",
        "\n",
        "----\n",
        "\n",
        "Memory management is important in Python because it directly impacts the efficiency, performance, and stability of programs. Proper memory management prevents memory leaks, where unused memory is not released, leading to slower performance and potential crashes. It also optimizes memory usage, allowing programs to run faster and handle larger datasets efficiently. Python automates memory management through garbage collection, but understanding its principles helps in writing more efficient code and avoiding common pitfalls.\n",
        "\n",
        "▶Summary of Memory Management\n",
        "\n",
        "| Benefit                       | Description                                                     |\n",
        "| ----------------------------- | --------------------------------------------------------------- |\n",
        "| **Prevents Memory Leaks**     | Ensures unused memory is freed up properly                      |\n",
        "| **Improves Performance**      | Efficient use of memory enhances speed                          |\n",
        "| **Prevents Crashes**          | Avoids running out of memory or system instability              |\n",
        "| **Automatic Management**      | Garbage collection handles cleanup automatically                |\n",
        "| **Supports Large Apps**       | Essential for scaling applications and handling large data      |\n",
        "| **Efficient Data Structures** | Choosing the right data structures ensures minimal memory usage |\n",
        "| **Useful in Multi-threading** | Prevents memory issues in concurrent executions                 |\n"
      ],
      "metadata": {
        "id": "BJlYa-QCbM4i"
      }
    },
    {
      "cell_type": "markdown",
      "source": [
        "#14.What is the role of try and except in exception handling?\n",
        "\n",
        "-----\n",
        "\n",
        "In exception handling, try and except blocks work together to gracefully handle errors or exceptions that may occur during code execution. The try block contains the code that might potentially raise an exception, and the except block contains the code that will be executed if an exception is raised within the try block. This allows the program to continue running instead of crashing when an error occurs.\n",
        "Here's a breakdown:\n",
        "try block:\n",
        "This block contains the code where you expect an exception to potentially be raised. If no exception occurs, the code in the try block is executed normally.\n",
        "except block:\n",
        "This block is only executed if an exception is raised within the try block. It provides a mechanism to handle the exception, allowing the program to continue running instead of crashing. You can specify the type of exception you want to handle in the except block, allowing you to catch and handle different types of errors in your code.\n",
        "\n",
        "▶Summary of try and except :\n",
        "\n",
        "| Component          | Purpose                                                                       |\n",
        "| ------------------ | ----------------------------------------------------------------------------- |\n",
        "| **`try` block**    | Contains the code that might raise an exception. It \"tries\" to run this code. |\n",
        "| **`except` block** | Handles exceptions raised in the `try` block. Defines the response to errors. |\n",
        "| **Error Handling** | Prevents the program from crashing and provides control over error responses. |\n"
      ],
      "metadata": {
        "id": "UM-dH9F2buF4"
      }
    },
    {
      "cell_type": "code",
      "source": [
        "try:\n",
        "    number = int(input(\"Enter a number: \"))  # May raise ValueError\n",
        "    result = 10 / number  # May raise ZeroDivisionError\n",
        "except ValueError:\n",
        "    print(\"Oops! That's not a valid number.\")\n",
        "except ZeroDivisionError:\n",
        "    print(\"Oops! You can't divide by zero.\")\n",
        "else:\n",
        "    print(f\"The result is {result}\")\n",
        "finally:\n",
        "    print(\"Execution finished.\")\n"
      ],
      "metadata": {
        "colab": {
          "base_uri": "https://localhost:8080/"
        },
        "id": "kpZCvVTMcMw4",
        "outputId": "c203b544-45c5-4481-fc79-74cf71f2c374"
      },
      "execution_count": null,
      "outputs": [
        {
          "output_type": "stream",
          "name": "stdout",
          "text": [
            "Enter a number: 10\n",
            "The result is 1.0\n",
            "Execution finished.\n"
          ]
        }
      ]
    },
    {
      "cell_type": "markdown",
      "source": [
        "#Q15. How does Python's garbage collection system work?\n",
        "\n",
        "----\n",
        "\n",
        "Python uses a hybrid approach to garbage collection: reference counting and generational garbage collection. Reference counting efficiently handles most cases where an object's reference count reaches zero, indicating no more active references. However, reference cycles, where objects refer to each other, can prevent reference counts from dropping to zero, necessitating the generational garbage collector.\n",
        "Here's a breakdown:\n",
        "1. Reference Counting:\n",
        "\n",
        "• Python tracks each object's reference count, incrementing it when a variable or data structure refers to it and decrementing it when the reference is removed.\n",
        "• When an object's reference count reaches zero, it's eligible for deallocation, freeing up memory.\n",
        "\n",
        "2. Generational Garbage Collection (Cyclic Garbage Collector):\n",
        "\n",
        "• This mechanism handles reference cycles, where two objects refer to each other, causing reference counts to remain non-zero.\n",
        "• It identifies and breaks these cycles, allowing Python to reclaim memory occupied by unreachable objects.  \n",
        "• Python classifies objects into three generations (young, middle, old) based on how long they've survived collection cycles.\n",
        "• The garbage collector prioritizes collecting younger generations as they are more likely to contain objects no longer in use.\n",
        "\n",
        "3. Key Concepts:\n",
        "\n",
        "• Reference: A link between a variable or data structure and an object in memory.  \n",
        "• Reference Cycle: A situation where objects refer to each other, preventing the reference count of any of them from dropping to zero.\n",
        "\n",
        "• Mark-and-Sweep Algorithm: An algorithm used by the generational garbage collector to identify reachable objects and reclaim memory from unreachable ones.\n",
        "\n",
        "Garbage collection works by:\n",
        "\n",
        "1. Tracking references: Keeping track of how many variables/data structures are referring to each object.\n",
        "2. Deallocating when necessary: Removing objects with a reference count of zero.   \n",
        "3. Handling cycles: Using the generational garbage collector to break reference cycles and reclaim memory from unreachable objects.\n",
        "4. Prioritizing younger generations: Collecting objects from younger generations more frequently as they are more likely to be garbage.\n",
        "\n",
        "▶Summary of Python's Garbage Collection System :\n",
        "\n",
        "| Component                     | Description                                                                                               |\n",
        "| ----------------------------- | --------------------------------------------------------------------------------------------------------- |\n",
        "| **Reference Counting**        | Tracks the number of references to each object and frees memory when the reference count reaches zero.    |\n",
        "| **Cyclic Garbage Collection** | Detects and cleans up objects involved in circular references that reference counting alone can’t handle. |\n",
        "| **Generational Approach**     | Divides objects into generations, collecting younger objects more frequently.                             |\n",
        "| **`gc` Module**               | Provides tools to interact with and control Python’s garbage collection process.                          |\n",
        "\n",
        "\n"
      ],
      "metadata": {
        "id": "s43aPGaOcRJO"
      }
    },
    {
      "cell_type": "markdown",
      "source": [
        "#Q16.What is the purpose of the else block in exception handling ?\n",
        "\n",
        "-----\n",
        "\n",
        "The else block in Python's exception handling system is an optional part of a try-except statement. It is executed only if no exception is raised in the try block. The purpose of the else block is to define code that should run when the try block executes successfully without encountering any errors.\n",
        "\n",
        "Key Purpose of the else Block ✈\n",
        "It allows you to separate the error-handling code from the normal execution flow. This improves code readability and maintainability.\n",
        "\n",
        "It ensures that code which should run only when no exceptions occur is kept distinct from the code that handles exceptions.\n",
        "\n",
        "It helps in avoiding the unnecessary execution of code that should only be run in the absence of errors.\n",
        "\n",
        "▶When is the else Block Executed?\n",
        "The else block is executed only if the try block completes without raising any exceptions.\n",
        "\n",
        "If any exception is raised in the try block, the code inside the else block is skipped, and the program moves directly to the corresponding except block."
      ],
      "metadata": {
        "id": "Y2I84ujCdLh8"
      }
    },
    {
      "cell_type": "code",
      "source": [
        "try:\n",
        "\n",
        "    result = 100/ 2\n",
        "except ZeroDivisionError:\n",
        "\n",
        "    print(\"Cannot divide by zero!\")\n",
        "else:\n",
        "\n",
        "    print(\"Division successful, result:\", result)\n"
      ],
      "metadata": {
        "colab": {
          "base_uri": "https://localhost:8080/"
        },
        "id": "0dGv6rTRdt-s",
        "outputId": "4bc82263-486e-4f68-c9bd-e83e73041bca"
      },
      "execution_count": null,
      "outputs": [
        {
          "output_type": "stream",
          "name": "stdout",
          "text": [
            "Division successful, result: 50.0\n"
          ]
        }
      ]
    },
    {
      "cell_type": "code",
      "source": [
        "try:\n",
        "    num = int(input(\"Enter a number: \"))  # Might raise ValueError if input is not an integer\n",
        "    result = 20 / num  # Might raise ZeroDivisionError if num is 0\n",
        "except ValueError:\n",
        "    print(\"Invalid input! Please enter a valid integer.\")\n",
        "except ZeroDivisionError:\n",
        "    print(\"Cannot divide by zero!\")\n",
        "else:\n",
        "    print(f\"Division successful! The result is: {result}\")\n"
      ],
      "metadata": {
        "colab": {
          "base_uri": "https://localhost:8080/"
        },
        "id": "Fc4Ip3NpducG",
        "outputId": "ab2ad543-34e4-4946-b5e4-dcaf0b43513b"
      },
      "execution_count": null,
      "outputs": [
        {
          "output_type": "stream",
          "name": "stdout",
          "text": [
            "Enter a number: 15\n",
            "Division successful! The result is: 1.3333333333333333\n"
          ]
        }
      ]
    },
    {
      "cell_type": "markdown",
      "source": [
        "#Q17. What are the common logging levels in Python?\n",
        "\n",
        "-----\n",
        "\n",
        "Python's logging module provides a set of standard logging levels to categorize events by severity. These levels, in increasing order of severity, are:\n",
        "\n",
        "• DEBUG (10): Detailed information, typically used for diagnosing problems.\n",
        "• INFO (20): Confirmation that things are working as expected.\n",
        "• WARNING (30): An indication that something unexpected happened, or might happen in the near future (e.g., \"disk space low\"). The software is still working as expected.\n",
        "• ERROR (40): Due to a more serious problem, the software has not been able to perform some function.\n",
        "• CRITICAL (50): A severe error indicating that the program itself may be unable to continue running.  \n",
        "\n",
        "When configuring the logging level, messages at that level and higher will be logged. For example, if the logging level is set to WARNING, then WARNING, ERROR, and CRITICAL messages will be logged, but DEBUG and INFO messages will be ignored. The default level is WARNING.\n"
      ],
      "metadata": {
        "id": "WrM4o9HOd-4T"
      }
    },
    {
      "cell_type": "markdown",
      "source": [
        "#Q18. What is the difference between os.fork() and multiprocessing in Python?\n",
        "\n",
        "------\n",
        "\n",
        "The os.fork() system call and the multiprocessing module in Python both enable the creation of new processes, but they differ significantly in their approach, portability, and use cases.\n",
        "os.fork()\n",
        "\n",
        "Creates a child process that is a nearly exact copy of the parent process.\n",
        "It's a low-level system call, directly interacting with the operating system.\n",
        "\n",
        "It's only available on Unix-like systems.\n",
        "\n",
        "Inherits all resources from the parent process, including memory space, file descriptors, etc.\n",
        "It's faster than multiprocessing because it avoids the overhead of starting a new Python interpreter.\n",
        "Can be unsafe in multithreaded programs due to potential deadlocks or data corruption.\n"
      ],
      "metadata": {
        "id": "ImOJ8NOHeYlA"
      }
    },
    {
      "cell_type": "code",
      "source": [
        "import os\n",
        "\n",
        "pid = os.fork()\n",
        "\n",
        "if pid == 0:\n",
        "    # Child process\n",
        "    print(\"Child process:\", os.getpid())\n",
        "else:\n",
        "    # Parent process\n",
        "    print(\" Parent process:\", os.getpid(), \"Child PID:\", pid)"
      ],
      "metadata": {
        "colab": {
          "base_uri": "https://localhost:8080/"
        },
        "id": "Bey9XbbDevlw",
        "outputId": "772784e0-47c9-4c8d-b890-cb73e508a4c0"
      },
      "execution_count": null,
      "outputs": [
        {
          "output_type": "stream",
          "name": "stdout",
          "text": [
            "Child process: 14175Parent process: 163 Child PID: 14175\n",
            "\n"
          ]
        }
      ]
    },
    {
      "cell_type": "markdown",
      "source": [
        "multiprocessing ✈\n",
        "\n",
        "Provides a high-level interface for managing and creating processes.\n",
        "Offers different start methods:\n",
        "\n",
        "fork: (Unix only, default on POSIX except macOS before Python 3.14) Similar to os.fork(), but with additional management features.\n",
        "\n",
        "spawn: (Cross-platform, default on Windows and macOS) Starts a fresh Python interpreter process.\n",
        "\n",
        "forkserver: (Unix only) Starts a server process that forks new processes upon request.\n",
        "\n",
        "More portable than os.fork(), working on Windows and Unix-like systems.\n",
        "\n",
        "Processes do not share memory by default, preventing data corruption issues.\n",
        "\n",
        "Slower than os.fork() due to the overhead of starting new Python interpreters (in spawn mode).\n",
        "\n",
        "It is safer to use in multithreaded programs."
      ],
      "metadata": {
        "id": "IkGajrLNe9Dn"
      }
    },
    {
      "cell_type": "code",
      "source": [
        "import multiprocessing\n",
        "\n",
        "def worker_function(x):\n",
        "    return x * x\n",
        "\n",
        "if __name__ == '__main__':\n",
        "    with multiprocessing.Pool(processes=4) as pool:\n",
        "        results = pool.map(worker_function, range(10))\n",
        "        print(results)"
      ],
      "metadata": {
        "id": "6YXhwIx7fJS-"
      },
      "execution_count": null,
      "outputs": []
    },
    {
      "cell_type": "markdown",
      "source": [
        "#Q19. What is the importance of closing a file in Python?\n",
        "\n",
        "-----\n",
        "Closing a file in Python is important for several reasons:\n",
        "\n",
        "▶Resource Management:\n",
        "\n",
        "When a file is opened, the operating system allocates resources to manage it. Failing to close the file after use can lead to resource leaks, potentially causing performance issues or crashes if too many files are left open.\n",
        "\n",
        "▶Data Integrity:\n",
        "Data written to a file might not be immediately saved to the disk. Closing the file ensures that all data in the buffer is flushed and written to the file, preventing data loss or corruption.\n",
        "File Locking:\n",
        "\n",
        "▶Some file operations require exclusive access. If a file is not closed, it may remain locked, preventing other processes or users from accessing it.\n",
        "\n",
        "▶Best Practice:\n",
        "Properly closing files is a good programming habit that improves code maintainability and robustness. It makes the code easier to understand and ensures that resources are managed correctly.\n",
        "\n",
        "Python provides the close() method to explicitly close a file. However, it is generally recommended to use the with statement, which automatically closes the file even if exceptions occur."
      ],
      "metadata": {
        "id": "OGwh0jztJdj_"
      }
    },
    {
      "cell_type": "code",
      "source": [
        "try:\n",
        "    file = open(\"example.txt\", \"w\")\n",
        "    file.write(\"This is some example text.\")\n",
        "except IOError as e:\n",
        "    print(f\"An error occurred: {e}\")\n",
        "finally:\n",
        "    file.close()\n",
        "\n",
        "with open(\"example.txt\", \"r\") as file:\n",
        "    content = file.read()\n",
        "    print(content)\n"
      ],
      "metadata": {
        "colab": {
          "base_uri": "https://localhost:8080/"
        },
        "id": "hkeeNM72TsTg",
        "outputId": "13abd0fe-1016-4760-e532-3bfed4a3ad6c"
      },
      "execution_count": 1,
      "outputs": [
        {
          "output_type": "stream",
          "name": "stdout",
          "text": [
            "This is some example text.\n"
          ]
        }
      ]
    },
    {
      "cell_type": "markdown",
      "source": [
        "#Q20. What is the difference between file.read() and file.readline() in Python?\n",
        "\n",
        "------\n",
        "\n",
        "file.read() and file.readline() are both methods used to read data from a file in Python, but they differ in how much data they read and return:\n",
        "\n",
        "file.read():\n",
        "\n",
        "This method reads the entire file content as a single string if no argument is provided. If a size argument is given (e.g., file.read(10)), it reads up to that number of bytes. It's suitable for smaller files that can be loaded entirely into memory.\n",
        "\n",
        "file.readline():\n",
        "This method reads a single line from the file, including the newline character (\\n) at the end, and returns it as a string. Subsequent calls to readline() will read the next line, and so on. If there are no more lines to read, it returns an empty string. It is more efficient for large files as it processes data line by line."
      ],
      "metadata": {
        "id": "Yu0QqIK9T1bP"
      }
    },
    {
      "cell_type": "code",
      "source": [
        "with open(\"example.txt\", \"r\") as file:\n",
        "    all_content = file.read()\n",
        "    print(\"Using file.read():\")\n",
        "    print(all_content)\n",
        "\n",
        "# file.readline() reads a single line from the file at a time.\n",
        "with open(\"example.txt\", \"r\") as file:\n",
        "    print(\"\\nUsing file.readline():\")\n",
        "    line1 = file.readline()\n",
        "    print(\"First line:\", line1)\n",
        "    line2 = file.readline()\n",
        "    print(\"Second line:\", line2)\n"
      ],
      "metadata": {
        "colab": {
          "base_uri": "https://localhost:8080/"
        },
        "id": "s7LS_sFhUUWu",
        "outputId": "ea155f91-e5a4-466e-c49f-a34e2f85a125"
      },
      "execution_count": 3,
      "outputs": [
        {
          "output_type": "stream",
          "name": "stdout",
          "text": [
            "Using file.read():\n",
            "This is some example text.\n",
            "\n",
            "Using file.readline():\n",
            "First line: This is some example text.\n",
            "Second line: \n"
          ]
        }
      ]
    },
    {
      "cell_type": "markdown",
      "source": [
        "#Q21. What is the logging module in Python used for?\n",
        "\n",
        "-----\n",
        "\n",
        "The logging module in Python is used for recording events and debugging issues during application execution. It provides a flexible system for logging messages, including errors, warnings, and informational messages, to various output destinations like files or the console.\n",
        "Here's a more detailed explanation:\n",
        "\n",
        "• Event Tracking: Logging allows developers to track what happens while a program is running, including errors, warnings, and other notable events.\n",
        "\n",
        "• Debugging: It helps developers identify the root cause of issues by providing a detailed record of the application's execution.\n",
        "\n",
        "• Monitoring: Logging can be used to monitor the health and performance of an application over time.\n",
        "\n",
        "• Flexibility: The logging module offers a wide range of options for configuring log messages, including log levels, formatters, and handlers.\n",
        "\n",
        "• Output Destinations: Log messages can be directed to various output destinations, such as files, the console, or even other applications.\n",
        "\n"
      ],
      "metadata": {
        "id": "p5NBnUDNUa0t"
      }
    },
    {
      "cell_type": "markdown",
      "source": [
        "#Q22.What is the os module in Python used for in file handling?\n",
        "\n",
        "------\n",
        "\n",
        "The os module in Python is a standard library module that provides a way to interact with the operating system, especially the file system. In file handling, it is commonly used to create, remove, inspect, move, and modify files and directories, and to get information about the file system.\n",
        "\n"
      ],
      "metadata": {
        "id": "jnE03PZnWZXI"
      }
    },
    {
      "cell_type": "code",
      "source": [
        "import os\n",
        "\n",
        "\n",
        "folder_name = 'example_folder'\n",
        "if not os.path.exists(folder_name):\n",
        "    os.mkdir(folder_name)\n",
        "    print(f\"Directory '{folder_name}' created.\")\n",
        "else:\n",
        "    print(f\"Directory '{folder_name}' already exists.\")\n",
        "\n",
        "\n",
        "file_path = os.path.join(folder_name, 'file.txt')\n",
        "with open(file_path, 'w') as f:\n",
        "    f.write(\"Hello, world!\")\n",
        "\n",
        "\n",
        "print(\"Files in directory:\", os.listdir(folder_name))\n",
        "\n",
        "\n",
        "print(\"File size (bytes):\", os.path.getsize(file_path))\n"
      ],
      "metadata": {
        "colab": {
          "base_uri": "https://localhost:8080/"
        },
        "id": "vyLSY9A5Ww0u",
        "outputId": "d2f88f97-5012-4269-8a4e-0368c0e68178"
      },
      "execution_count": 5,
      "outputs": [
        {
          "output_type": "stream",
          "name": "stdout",
          "text": [
            "Directory 'example_folder' already exists.\n",
            "Files in directory: ['file.txt']\n",
            "File size (bytes): 13\n"
          ]
        }
      ]
    },
    {
      "cell_type": "markdown",
      "source": [
        "#Q23. What are the challenges associated with memory management in Python ?\n",
        "\n",
        "------\n",
        "Here are the challenges associated with memory management in Python:\n",
        "\n",
        "▶ Garbage Collection Overhead:\n",
        "\n",
        "Python employs automatic garbage collection, which reclaims memory occupied by objects no longer in use. While convenient, this process can introduce overhead, leading to pauses or performance fluctuations, especially in applications with frequent object creation and deletion.\n",
        "\n",
        "▶ Memory Leaks:\n",
        "\n",
        "Despite garbage collection, memory leaks can still occur, particularly with circular references where objects refer to each other, preventing them from being collected. Unreleased external resources, like file handles or network connections, can also cause leaks if not properly managed.\n",
        "\n",
        "▶ Circular References:\n",
        "\n",
        "Python's garbage collector might fail to collect objects involved in circular references (where objects reference each other). This can lead to memory leaks if not handled carefully, often requiring manual intervention using the gc module.\n",
        "▶Inefficient Data Structures:\n",
        "\n",
        "Using memory-inefficient data structures can lead to excessive memory consumption. For example, lists might consume more memory than arrays for numerical data. Choosing appropriate data structures is crucial for optimizing memory usage.\n",
        "\n",
        "▶ Large Objects:\n",
        "\n",
        "Handling large objects, such as large datasets or images, can strain memory resources, potentially leading to MemoryError exceptions. Techniques like chunking or using memory-mapping can help mitigate this issue.\n",
        "\n",
        "▶ Limited Manual Control:\n",
        "\n",
        "Python offers limited manual control over memory management compared to languages like C or C++. Fine-grained control over allocation and deallocation is not directly available, which can be a disadvantage in performance-critical scenarios.\n",
        "\n",
        "▶ Memory Fragmentation:\n",
        "\n",
        "Over time, memory can become fragmented, with small blocks of free memory scattered throughout the address space. This can make it difficult to allocate large contiguous blocks of memory, even if sufficient free memory is available in total.\n",
        "\n",
        "▶ Global Interpreter Lock (GIL):\n",
        "\n",
        "The GIL can limit true parallelism in multi-threaded Python programs, potentially affecting memory management efficiency in concurrent scenarios. While it primarily impacts CPU-bound tasks, it can indirectly influence memory usage patterns.\n",
        "\n",
        "▶Memory Errors:\n",
        "\n",
        "When a program attempts to access memory it doesn't have permission to access, or attempts to allocate more memory than is available, a memory error occurs, which can lead to program termination.\n",
        "\n",
        "▶ External Libraries:\n",
        "\n",
        "When integrating with external libraries (e.g., C/C++ extensions), memory management complexities can arise due to the interaction between Python's memory management and that of the external code.\n",
        "\n",
        "\n"
      ],
      "metadata": {
        "id": "lbG-7h5XW4F3"
      }
    },
    {
      "cell_type": "markdown",
      "source": [
        "#Q24.How do you raise an exception manually in Python?\n",
        "\n",
        "-----\n",
        "\n",
        "To raise an exception manually in Python, the raise keyword is used, followed by the exception class or instance that you want to raise. Optionally, you can provide an error message to give more context about the exception.\n",
        "\n"
      ],
      "metadata": {
        "id": "qMjv_GbkXlXV"
      }
    },
    {
      "cell_type": "code",
      "source": [
        "def check_age(age):\n",
        "    if age < 0:\n",
        "        raise ValueError(\"Age cannot be negative\")\n",
        "    elif age > 120:\n",
        "        raise ValueError(\"Age is unrealistic\")\n",
        "    else:\n",
        "        print(\"Valid age\")\n",
        "\n",
        "try:\n",
        "    check_age(-5)\n",
        "except ValueError as e:\n",
        "    print(f\"Error: {e}\")\n",
        "\n",
        "try:\n",
        "    check_age(150)\n",
        "except ValueError as e:\n",
        "    print(f\"Error: {e}\")"
      ],
      "metadata": {
        "colab": {
          "base_uri": "https://localhost:8080/"
        },
        "id": "MgB31rHLX1ws",
        "outputId": "97dda0d2-3f73-4b9f-bc4f-53ef33928b7e"
      },
      "execution_count": 7,
      "outputs": [
        {
          "output_type": "stream",
          "name": "stdout",
          "text": [
            "Error: Age cannot be negative\n",
            "Error: Age is unrealistic\n"
          ]
        }
      ]
    },
    {
      "cell_type": "markdown",
      "source": [
        "#Q25. Why is it important to use multithreading in certain applications ?\n",
        "\n",
        "-----\n",
        "Multithreading is important in applications that benefit from concurrent execution of tasks, improved responsiveness, and efficient resource utilization. By breaking down a program into smaller, independent threads, applications can perform multiple operations simultaneously, leading to faster execution, smoother user interfaces, and better utilization of CPU cores.  \n",
        "Here's a more detailed explanation:\n",
        "1. Enhanced Performance:\n",
        "\n",
        "• Parallel Execution: Multithreading allows different parts of a program to run concurrently, especially on multi-core processors. This can significantly reduce the overall execution time, especially for tasks that can be divided into smaller, independent operations.\n",
        "\n",
        "• CPU Utilization: By allowing multiple threads to run, multithreading can keep the CPU busy, even when one thread is waiting for I/O or other resources. This improves overall CPU utilization and can lead to faster application performance.\n",
        "\n",
        "2. Improved Responsiveness:\n",
        "\n",
        "• User Interface: Multithreading allows the user interface to remain responsive even while the application is performing long-running tasks in the background. This prevents the UI from freezing and provides a better user experience.\n",
        "\n",
        "\n",
        "• Concurrency: Multithreading enables an application to handle multiple user requests or events concurrently, making it more responsive and efficient.\n",
        "\n",
        "3. Efficient Resource Utilization:\n",
        "\n",
        "• Context Switching: Switching between threads is generally faster than switching between separate processes. This is because threads within the same process share the same memory space and resources, reducing the overhead associated with context switching.\n",
        "\n",
        "• Resource Sharing: Threads within the same process can easily share data and resources, simplifying communication and coordination between different parts of the application.\n",
        "\n",
        "• Scalability: Multithreading allows applications to scale more easily by adding more threads to handle increased workloads.\n",
        "\n",
        "4. Other Benefits:\n",
        "\n",
        "• Simpler Program Structure: In some cases, multithreading can simplify the structure of a program by allowing different parts of the application to handle specific tasks in a more natural way.\n",
        "• Network Applications: Multithreading is crucial for applications like web servers, which need to handle multiple client requests simultaneously.\n",
        "\n",
        "\n",
        "• Scientific Computing: Multithreading can be used to parallelize computations, significantly speeding up complex simulations and calculations.\n",
        "\n",
        "In summary, multithreading is a valuable tool for improving application performance, responsiveness, and resource utilization, especially in applications that involve complex computations, user interface interaction, and handling multiple concurrent requests.\n"
      ],
      "metadata": {
        "id": "oXzgTFb6YYmC"
      }
    },
    {
      "cell_type": "markdown",
      "source": [
        "#Practical Questions#"
      ],
      "metadata": {
        "id": "AQqgLUl8ZUHQ"
      }
    },
    {
      "cell_type": "markdown",
      "source": [
        "#Q1. How can you open a file for writing in Python and write a string to it ?\n"
      ],
      "metadata": {
        "id": "pRQx1DKBZYv3"
      }
    },
    {
      "cell_type": "code",
      "source": [
        "\n",
        "file_path = \"my_new_file.txt\"\n",
        "content_to_write = \"Hello, Sourav! This is a string I want to write.\"\n",
        "\n",
        "\n",
        "try:\n",
        "    with open(file_path, \"w\") as file:\n",
        "\n",
        "        file.write(content_to_write)\n",
        "    print(f\"Successfully wrote to '{file_path}'\")\n",
        "\n",
        "except IOError as e:\n",
        "    print(f\"An error occurred while writing to the file: {e}\")\n",
        "\n",
        "# Optional: Read the file to verify the content was written\n",
        "try:\n",
        "    with open(file_path, \"r\") as file:\n",
        "        read_content = file.read()\n",
        "        print(f\"Content read from '{file_path}':\")\n",
        "        print(read_content)\n",
        "except FileNotFoundError:\n",
        "    print(f\"Error: The file '{file_path}' was not found after writing.\")\n",
        "except IOError as e:\n",
        "    print(f\"An error occurred while reading the file: {e}\")"
      ],
      "metadata": {
        "colab": {
          "base_uri": "https://localhost:8080/"
        },
        "id": "9QWKR4W7Zlv3",
        "outputId": "00deee29-e513-4b57-874a-b507a67b6bc8"
      },
      "execution_count": 8,
      "outputs": [
        {
          "output_type": "stream",
          "name": "stdout",
          "text": [
            "Successfully wrote to 'my_new_file.txt'\n",
            "Content read from 'my_new_file.txt':\n",
            "Hello, Sourav! This is a string I want to write.\n"
          ]
        }
      ]
    },
    {
      "cell_type": "markdown",
      "source": [
        "#Q2.Write a Python program to read the contents of a file and print each line."
      ],
      "metadata": {
        "id": "A39CxuphZ2FG"
      }
    },
    {
      "cell_type": "code",
      "source": [
        "filename = \"your_file_name.txt\"\n",
        "\n",
        "try:\n",
        "    with open(filename, 'r') as file:\n",
        "        # Read and print each line\n",
        "        for line in file:\n",
        "            print(line.strip())\n",
        "except FileNotFoundError:\n",
        "    print(f\"Error: The file '{filename}' was not found.\")\n",
        "except Exception as e:\n",
        "    print(f\"An error occurred: {e}\")"
      ],
      "metadata": {
        "colab": {
          "base_uri": "https://localhost:8080/"
        },
        "id": "0kRSJnC6aAht",
        "outputId": "d054263c-1e1d-4d09-a2d4-65ea4a72abd0"
      },
      "execution_count": 9,
      "outputs": [
        {
          "output_type": "stream",
          "name": "stdout",
          "text": [
            "Error: The file 'your_file_name.txt' was not found.\n"
          ]
        }
      ]
    },
    {
      "cell_type": "markdown",
      "source": [
        "#Q3. How would you handle a case where the file doesn't exist while trying to open it for reading?"
      ],
      "metadata": {
        "id": "dMKK2H1naZe0"
      }
    },
    {
      "cell_type": "code",
      "source": [
        "filename = \"non_existent_file.txt\" # Replace with a filename that might not exist\n",
        "\n",
        "try:\n",
        "    with open(filename, 'r') as file:\n",
        "        content = file.read()\n",
        "        print(content)\n",
        "except FileNotFoundError:\n",
        "    # This block executes if the specified file does not exist\n",
        "    print(f\"Error: The file '{filename}' was not found.\")\n",
        "except IOError as e:\n",
        "    # Catch other potential I/O errors like permission issues\n",
        "    print(f\"An I/O error occurred while trying to open the file: {e}\")\n"
      ],
      "metadata": {
        "colab": {
          "base_uri": "https://localhost:8080/"
        },
        "id": "Ep6G9OSqahzO",
        "outputId": "1dca531f-d391-487c-eefa-746f089ef26e"
      },
      "execution_count": 11,
      "outputs": [
        {
          "output_type": "stream",
          "name": "stdout",
          "text": [
            "Error: The file 'non_existent_file.txt' was not found.\n"
          ]
        }
      ]
    },
    {
      "cell_type": "markdown",
      "source": [
        "#Q4. Write a Python script that reads from one file and writes its content to another file."
      ],
      "metadata": {
        "id": "5yxbcsLiatYL"
      }
    },
    {
      "cell_type": "code",
      "source": [
        "def copy_file_content(source_filename, destination_filename):\n",
        "  \"\"\"\n",
        "  Reads content from source_filename and writes it to destination_filename.\n",
        "\n",
        "  Args:\n",
        "    source_filename: The path to the file to read from.\n",
        "    destination_filename: The path to the file to write to.\n",
        "  \"\"\"\n",
        "  try:\n",
        "    # Open the source file for reading ('r')\n",
        "    with open(source_filename, 'r') as source_file:\n",
        "      # Read the entire content of the source file\n",
        "      content = source_file.read()\n",
        "\n",
        "    # Open the destination file for writing ('w').\n",
        "    # 'w' mode creates the file if it doesn't exist or truncates it if it does.\n",
        "    with open(destination_filename, 'w') as destination_file:\n",
        "      # Write the read content to the destination file\n",
        "      destination_file.write(content)\n",
        "\n",
        "    print(f\"Successfully copied content from '{source_filename}' to '{destination_filename}'\")\n",
        "\n",
        "  except FileNotFoundError:\n",
        "    print(f\"Error: Source file '{source_filename}' not found.\")\n",
        "  except IOError as e:\n",
        "    print(f\"An I/O error occurred: {e}\")\n",
        "  except Exception as e:\n",
        "    print(f\"An unexpected error occurred: {e}\")\n",
        "\n",
        "\n",
        "# Create a dummy source file for testing\n",
        "source_file_name = \"source_file.txt\"\n",
        "destination_file_name = \"destination_file.txt\"\n",
        "\n",
        "try:\n",
        "    with open(source_file_name, \"w\") as f:\n",
        "        f.write(\"This is the content of the source file.\\n\")\n",
        "        f.write(\"This is the second line.\")\n",
        "except IOError as e:\n",
        "    print(f\"Error creating source file: {e}\")\n",
        "\n",
        "# Call the function to copy the content\n",
        "copy_file_content(source_file_name, destination_file_name)\n",
        "\n",
        "# Optional: Read the destination file to verify the content\n",
        "try:\n",
        "    with open(destination_file_name, \"r\") as f:\n",
        "        print(f\"\\nContent of '{destination_file_name}':\")\n",
        "        print(f.read())\n",
        "except FileNotFoundError:\n",
        "    print(f\"Error: Destination file '{destination_file_name}' not found after copy.\")\n",
        "except IOError as e:\n",
        "    print(f\"Error reading destination file: {e}\")"
      ],
      "metadata": {
        "colab": {
          "base_uri": "https://localhost:8080/"
        },
        "id": "bH9bXisaa7Fy",
        "outputId": "151e9275-49ca-43fa-c66a-a88bc9621b19"
      },
      "execution_count": 12,
      "outputs": [
        {
          "output_type": "stream",
          "name": "stdout",
          "text": [
            "Successfully copied content from 'source_file.txt' to 'destination_file.txt'\n",
            "\n",
            "Content of 'destination_file.txt':\n",
            "This is the content of the source file.\n",
            "This is the second line.\n"
          ]
        }
      ]
    },
    {
      "cell_type": "markdown",
      "source": [
        "#Q5.How would you catch and handle division by zero error in Python ?\n"
      ],
      "metadata": {
        "id": "2TpZho6sbHla"
      }
    },
    {
      "cell_type": "code",
      "source": [
        "try:\n",
        "    numerator = 10\n",
        "    denominator = 0\n",
        "    result = numerator / denominator\n",
        "    print(result)\n",
        "except ZeroDivisionError:\n",
        "    print(\"Error: Division by zero is not allowed.\")"
      ],
      "metadata": {
        "colab": {
          "base_uri": "https://localhost:8080/"
        },
        "id": "inbQLjC2bPmh",
        "outputId": "66170833-65ac-4871-cb3c-3ace51ed7855"
      },
      "execution_count": 13,
      "outputs": [
        {
          "output_type": "stream",
          "name": "stdout",
          "text": [
            "Error: Division by zero is not allowed.\n"
          ]
        }
      ]
    },
    {
      "cell_type": "markdown",
      "source": [
        "#Q6. Write a Python program that logs an error message to a log file when a division by zero exception occurs."
      ],
      "metadata": {
        "id": "HN--_2X_bR_S"
      }
    },
    {
      "cell_type": "code",
      "source": [
        "import logging\n",
        "\n",
        "\n",
        "logging.basicConfig(filename='error.log', level=logging.ERROR,\n",
        "                    format='%(asctime)s - %(levelname)s - %(message)s')\n",
        "\n",
        "def divide(x, y):\n",
        "    try:\n",
        "        result = x / y\n",
        "        return result\n",
        "    except ZeroDivisionError:\n",
        "         logging.exception(\"Division by zero occurred\")\n",
        "         return None\n",
        "\n",
        "\n",
        "numerator = 10\n",
        "denominator = 0\n",
        "\n",
        "result = divide(numerator, denominator)\n",
        "\n",
        "if result is None:\n",
        "    print(\"An error occurred. Check error.log for details.\")\n",
        "else:\n",
        "    print(\"Result:\", result)\n",
        "\n",
        "numerator = 10\n",
        "denominator = 2\n",
        "result = divide(numerator, denominator)\n",
        "\n",
        "if result is None:\n",
        "    print(\"An error occurred. Check error.log for details.\")\n",
        "else:\n",
        "    print(\"Result:\", result)"
      ],
      "metadata": {
        "colab": {
          "base_uri": "https://localhost:8080/"
        },
        "id": "KWUMT0TpbgcM",
        "outputId": "2f181eab-18b6-42c6-d19e-f271ec1dacc4"
      },
      "execution_count": 17,
      "outputs": [
        {
          "output_type": "stream",
          "name": "stderr",
          "text": [
            "ERROR:root:Division by zero occurred\n",
            "Traceback (most recent call last):\n",
            "  File \"<ipython-input-17-8d42248b3942>\", line 9, in divide\n",
            "    result = x / y\n",
            "             ~~^~~\n",
            "ZeroDivisionError: division by zero\n"
          ]
        },
        {
          "output_type": "stream",
          "name": "stdout",
          "text": [
            "An error occurred. Check error.log for details.\n",
            "Result: 5.0\n"
          ]
        }
      ]
    },
    {
      "cell_type": "markdown",
      "source": [
        "#Q7.How do you log information at different levels (INFO, ERROR, WARNING) in Python using the logging module?"
      ],
      "metadata": {
        "id": "WUSIJx1iiD02"
      }
    },
    {
      "cell_type": "code",
      "source": [
        "logging.debug(\"This is a debug message - useful for detailed diagnostics.\")\n",
        "logging.info(\"This is an informational message - indicating normal operation.\")\n",
        "logging.warning(\"This is a warning message - something unexpected happened, but the program can continue.\")\n",
        "logging.error(\"This is an error message - a specific function failed.\")\n",
        "logging.critical(\"This is a critical message - indicating a severe problem, possibly causing program termination.\")\n",
        "\n",
        "# Example with a function that might cause an error\n",
        "def safe_divide(a, b):\n",
        "    try:\n",
        "        result = a / b\n",
        "        logging.info(f\"Successfully divided {a} by {b}. Result: {result}\")\n",
        "        return result\n",
        "    except ZeroDivisionError:\n",
        "        logging.error(f\"Attempted to divide by zero: {a} / {b}\")\n",
        "        # You can also log the traceback for more context\n",
        "        logging.exception(\"Details of the ZeroDivisionError:\")\n",
        "        return None\n",
        "\n",
        "safe_divide(10, 2)\n",
        "safe_divide(10, 0)"
      ],
      "metadata": {
        "colab": {
          "base_uri": "https://localhost:8080/"
        },
        "id": "2zjWQe-NiQes",
        "outputId": "e19dbbaa-31e5-4259-cb8d-a184ef4b1bc0"
      },
      "execution_count": 18,
      "outputs": [
        {
          "output_type": "stream",
          "name": "stderr",
          "text": [
            "WARNING:root:This is a warning message - something unexpected happened, but the program can continue.\n",
            "ERROR:root:This is an error message - a specific function failed.\n",
            "CRITICAL:root:This is a critical message - indicating a severe problem, possibly causing program termination.\n",
            "ERROR:root:Attempted to divide by zero: 10 / 0\n",
            "ERROR:root:Details of the ZeroDivisionError:\n",
            "Traceback (most recent call last):\n",
            "  File \"<ipython-input-18-d8b19c4a3c8b>\", line 10, in safe_divide\n",
            "    result = a / b\n",
            "             ~~^~~\n",
            "ZeroDivisionError: division by zero\n"
          ]
        }
      ]
    },
    {
      "cell_type": "markdown",
      "source": [
        "#Q8.Write a program to handle a file opening error using exception handling?"
      ],
      "metadata": {
        "id": "BHJT-JELiSfs"
      }
    },
    {
      "cell_type": "code",
      "source": [
        "filename_to_open = \"non_existent_file_for_handling.txt\"\n",
        "\n",
        "try:\n",
        "\n",
        "    with open(filename_to_open, 'r') as file:\n",
        "        content = file.read()\n",
        "        print(f\"Successfully read content from '{filename_to_open}':\")\n",
        "        print(content)\n",
        "except FileNotFoundError:\n",
        "\n",
        "    print(f\"Error: The file '{filename_to_open}' was not found.\")\n",
        "except IOError as e:\n",
        "\n",
        "    print(f\"An I/O error occurred while trying to open the file: {e}\")\n",
        "except Exception as e:\n",
        "\n",
        "    print(f\"An unexpected error occurred: {e}\")\n",
        "finally:\n",
        "\n",
        "    print(\"Attempted file opening operation.\")\n"
      ],
      "metadata": {
        "colab": {
          "base_uri": "https://localhost:8080/"
        },
        "id": "IS-irZoziZ2E",
        "outputId": "1e476dc3-aca2-4e58-8f12-d8470e283ec3"
      },
      "execution_count": 20,
      "outputs": [
        {
          "output_type": "stream",
          "name": "stdout",
          "text": [
            "Error: The file 'non_existent_file_for_handling.txt' was not found.\n",
            "Attempted file opening operation.\n"
          ]
        }
      ]
    },
    {
      "cell_type": "markdown",
      "source": [
        "#Q9.How can you read a file line by line and store its content in a list in Python?"
      ],
      "metadata": {
        "id": "SKX7To0Riim8"
      }
    },
    {
      "cell_type": "code",
      "source": [
        "def file_to_list(file_path):\n",
        "    \"\"\"Reads a file line by line and stores the content in a list.\n",
        "\n",
        "    Args:\n",
        "        file_path: The path to the file.\n",
        "\n",
        "    Returns:\n",
        "        A list where each element is a line from the file, or None if an error occurs.\n",
        "    \"\"\"\n",
        "    try:\n",
        "        with open(file_path, 'r') as file:\n",
        "            lines = file.readlines()\n",
        "            return lines\n",
        "    except FileNotFoundError:\n",
        "        print(f\"Error: File not found at {file_path}\")\n",
        "        return None\n",
        "    except Exception as e:\n",
        "        print(f\"An error occurred: {e}\")\n",
        "        return None\n",
        "\n",
        "# Example usage\n",
        "file_path = 'my_text_file.txt'\n",
        "with open(file_path, 'w') as file:\n",
        "    file.write(\"This is the first line.\\n\")\n",
        "    file.write(\"This is the second line.\\n\")\n",
        "    file.write(\"This is the third line.\\n\")\n",
        "\n",
        "lines_list = file_to_list(file_path)\n",
        "\n",
        "if lines_list:\n",
        "    for line in lines_list:\n",
        "        print(line.strip())"
      ],
      "metadata": {
        "colab": {
          "base_uri": "https://localhost:8080/"
        },
        "id": "z-9t7_Ykiyij",
        "outputId": "41fa482e-29aa-4284-8b4b-5b9bd8768e2a"
      },
      "execution_count": 23,
      "outputs": [
        {
          "output_type": "stream",
          "name": "stdout",
          "text": [
            "This is the first line.\n",
            "This is the second line.\n",
            "This is the third line.\n"
          ]
        }
      ]
    },
    {
      "cell_type": "markdown",
      "source": [
        "#Q10.How can you append data to an existing file in Python ?"
      ],
      "metadata": {
        "id": "YvtftPLxi1ND"
      }
    },
    {
      "cell_type": "code",
      "source": [
        "file_path = \"my_existing_file.txt\"\n",
        "data_to_append = \"This is the new line I want to append.\"\n",
        "\n",
        "try:\n",
        "\n",
        "    with open(file_path, \"a\") as file:\n",
        "\n",
        "        file.write(\"\\n\" + data_to_append)\n",
        "    print(f\"Successfully appended to '{file_path}'\")\n",
        "\n",
        "except IOError as e:\n",
        "    print(f\"An error occurred while appending to the file: {e}\")\n",
        "\n",
        "\n",
        "try:\n",
        "    with open(file_path, \"r\") as file:\n",
        "        read_content = file.read()\n",
        "        print(f\"Content read from '{file_path}' after appending:\")\n",
        "        print(read_content)\n",
        "except FileNotFoundError:\n",
        "    print(f\"Error: The file '{file_path}' was not found after appending.\")\n",
        "except IOError as e:\n",
        "    print(f\"An error occurred while reading the file after appending: {e}\")"
      ],
      "metadata": {
        "colab": {
          "base_uri": "https://localhost:8080/"
        },
        "id": "CM944iEQi-ai",
        "outputId": "dad401e2-c6df-4f9c-9b67-d26aa8fac642"
      },
      "execution_count": 24,
      "outputs": [
        {
          "output_type": "stream",
          "name": "stdout",
          "text": [
            "Successfully appended to 'my_existing_file.txt'\n",
            "Content read from 'my_existing_file.txt' after appending:\n",
            "\n",
            "This is the new line I want to append.\n"
          ]
        }
      ]
    },
    {
      "cell_type": "markdown",
      "source": [
        "#Q11. Write a Python program that uses a try-except block to handle an error when attempting to access a dictionary key that doesn't exist?"
      ],
      "metadata": {
        "id": "COGT9wQajGti"
      }
    },
    {
      "cell_type": "code",
      "source": [
        "my_dict = {\"a\": 1, \"b\": 2, \"c\": 3}\n",
        "\n",
        "try:\n",
        "  value = my_dict[\"d\"]\n",
        "  print(value)\n",
        "except KeyError:\n",
        "  print(\"Error: The key does not exist in the dictionary.\")"
      ],
      "metadata": {
        "colab": {
          "base_uri": "https://localhost:8080/"
        },
        "id": "9J-vpCf7jOJ5",
        "outputId": "e425fa30-87e3-4bab-da39-6418754f03c6"
      },
      "execution_count": 25,
      "outputs": [
        {
          "output_type": "stream",
          "name": "stdout",
          "text": [
            "Error: The key does not exist in the dictionary.\n"
          ]
        }
      ]
    },
    {
      "cell_type": "markdown",
      "source": [
        "#Q12.Write a program that demonstrates using multiple except blocks to handle different types of exceptions?"
      ],
      "metadata": {
        "id": "5Fi2dbMJjSNR"
      }
    },
    {
      "cell_type": "code",
      "source": [
        "def perform_operation(data, index, divisor):\n",
        "    try:\n",
        "\n",
        "        value = data[index]\n",
        "        print(f\"Value at index {index}: {value}\")\n",
        "\n",
        "\n",
        "        result = value / divisor\n",
        "        print(f\"Result of division: {result}\")\n",
        "\n",
        "    except IndexError:\n",
        "        print(f\"Error: Invalid index '{index}'. The index is out of bounds.\")\n",
        "\n",
        "    except ZeroDivisionError:\n",
        "        print(f\"Error: Cannot divide by zero. The divisor is {divisor}.\")\n",
        "\n",
        "    except TypeError:\n",
        "        print(f\"Error: Cannot perform division with the provided value and divisor. Value type: {type(data[index]).__name__}, Divisor type: {type(divisor).__name__}\")\n",
        "\n",
        "    except Exception as e:\n",
        "\n",
        "        print(f\"An unexpected error occurred: {type(e).__name__} - {e}\")\n",
        "\n",
        "\n",
        "print(\"--- Scenario 1: No error ---\")\n",
        "perform_operation([10, 20, 30], 1, 5)\n",
        "\n",
        "print(\"\\n--- Scenario 2: IndexError ---\")\n",
        "perform_operation([10, 20, 30], 5, 5)\n",
        "\n",
        "print(\"\\n--- Scenario 3: ZeroDivisionError ---\")\n",
        "perform_operation([10, 20, 30], 1, 0)\n",
        "\n",
        "print(\"\\n--- Scenario 4: TypeError ---\")\n",
        "perform_operation([\"hello\", 20, 30], 0, 5)\n",
        "\n",
        "print(\"\\n--- Scenario 5: Another TypeError (dividing by a string) ---\")\n",
        "perform_operation([10, 20, 30], 1, \"abc\")\n"
      ],
      "metadata": {
        "colab": {
          "base_uri": "https://localhost:8080/"
        },
        "id": "DAuDr261jgOh",
        "outputId": "4d6a4787-1a76-43d6-aac2-585bd791dcfe"
      },
      "execution_count": 26,
      "outputs": [
        {
          "output_type": "stream",
          "name": "stdout",
          "text": [
            "--- Scenario 1: No error ---\n",
            "Value at index 1: 20\n",
            "Result of division: 4.0\n",
            "\n",
            "--- Scenario 2: IndexError ---\n",
            "Error: Invalid index '5'. The index is out of bounds.\n",
            "\n",
            "--- Scenario 3: ZeroDivisionError ---\n",
            "Value at index 1: 20\n",
            "Error: Cannot divide by zero. The divisor is 0.\n",
            "\n",
            "--- Scenario 4: TypeError ---\n",
            "Value at index 0: hello\n",
            "Error: Cannot perform division with the provided value and divisor. Value type: str, Divisor type: int\n",
            "\n",
            "--- Scenario 5: Another TypeError (dividing by a string) ---\n",
            "Value at index 1: 20\n",
            "Error: Cannot perform division with the provided value and divisor. Value type: int, Divisor type: str\n"
          ]
        }
      ]
    },
    {
      "cell_type": "markdown",
      "source": [
        "#Q13. How would you check if a file exists before attempting to read it in Python ?"
      ],
      "metadata": {
        "id": "3qjXAgZsjqky"
      }
    },
    {
      "cell_type": "code",
      "source": [
        "import os\n",
        "\n",
        "def read_file_if_exists(file_path):\n",
        "  \"\"\"\n",
        "  Checks if a file exists and reads its content if it does.\n",
        "\n",
        "  Args:\n",
        "    file_path: The path to the file to check and read.\n",
        "  \"\"\"\n",
        "  if os.path.exists(file_path):\n",
        "    try:\n",
        "      with open(file_path, 'r') as file:\n",
        "        content = file.read()\n",
        "        print(f\"Successfully read content from '{file_path}':\")\n",
        "        print(content)\n",
        "    except IOError as e:\n",
        "      print(f\"An I/O error occurred while trying to read the file: {e}\")\n",
        "    except Exception as e:\n",
        "      print(f\"An unexpected error occurred while reading the file: {e}\")\n",
        "  else:\n",
        "    print(f\"Error: The file '{file_path}' does not exist.\")\n",
        "\n",
        "\n",
        "existing_file_name = \"example.txt\"\n",
        "non_existing_file_name = \"this_file_definitely_does_not_exist.txt\"\n",
        "\n",
        "# Create a dummy existing file for this example if it doesn't exist\n",
        "if not os.path.exists(existing_file_name):\n",
        "    try:\n",
        "        with open(existing_file_name, \"w\") as f:\n",
        "            f.write(\"This file exists.\")\n",
        "    except IOError as e:\n",
        "        print(f\"Error creating dummy file '{existing_file_name}': {e}\")\n",
        "\n",
        "\n",
        "print(\"--- Checking for an existing file ---\")\n",
        "read_file_if_exists(existing_file_name)\n",
        "\n",
        "print(\"\\n--- Checking for a non-existing file ---\")\n",
        "read_file_if_exists(non_existing_file_name)"
      ],
      "metadata": {
        "colab": {
          "base_uri": "https://localhost:8080/"
        },
        "id": "w32jtoGIj1W4",
        "outputId": "f6ea2f6c-5b66-4d6a-8098-16f1812c4ed9"
      },
      "execution_count": 27,
      "outputs": [
        {
          "output_type": "stream",
          "name": "stdout",
          "text": [
            "--- Checking for an existing file ---\n",
            "Successfully read content from 'example.txt':\n",
            "This is some example text.\n",
            "\n",
            "--- Checking for a non-existing file ---\n",
            "Error: The file 'this_file_definitely_does_not_exist.txt' does not exist.\n"
          ]
        }
      ]
    },
    {
      "cell_type": "markdown",
      "source": [
        "#Q14. Write a program that uses the logging module to log both informational and error messages?"
      ],
      "metadata": {
        "id": "LmaTRl8Pj8zf"
      }
    },
    {
      "cell_type": "code",
      "source": [
        "logging.basicConfig(level=logging.INFO, format='%(asctime)s - %(levelname)s - %(message)s')\n",
        "\n",
        "def example_function(value):\n",
        "    \"\"\"\n",
        "    An example function that logs informational and potential error messages.\n",
        "    \"\"\"\n",
        "    logging.info(f\"Starting example_function with value: {value}\")\n",
        "    try:\n",
        "        result = 100 / value\n",
        "        logging.info(f\"Successfully calculated result: {result}\")\n",
        "        return result\n",
        "    except ZeroDivisionError:\n",
        "\n",
        "        logging.error(f\"Attempted to divide by zero with value: {value}\")\n",
        "        # Optionally log the full traceback for debugging\n",
        "        logging.exception(\"Details of the ZeroDivisionError:\")\n",
        "        return None\n",
        "    except TypeError:\n",
        "        # Log an error message for type errors\n",
        "        logging.error(f\"Invalid type for division with value: {value} (Type: {type(value).__name__})\")\n",
        "        logging.exception(\"Details of the TypeError:\")\n",
        "        return None\n",
        "    except Exception as e:\n",
        "        # Log any other unexpected exceptions\n",
        "        logging.error(f\"An unexpected error occurred with value: {value}\")\n",
        "        logging.exception(f\"Details of unexpected error: {e}\")\n",
        "        return None\n",
        "\n",
        "\n",
        "print(\"--- Running example_function with a valid value ---\")\n",
        "example_function(5)\n",
        "\n",
        "print(\"\\n--- Running example_function with zero (will cause ZeroDivisionError) ---\")\n",
        "example_function(0)\n",
        "\n",
        "print(\"\\n--- Running example_function with a string (will cause TypeError) ---\")\n",
        "example_function(\"abc\")\n",
        "\n",
        "print(\"\\n--- Running example_function with another valid value ---\")\n",
        "example_function(25)"
      ],
      "metadata": {
        "colab": {
          "base_uri": "https://localhost:8080/"
        },
        "id": "PQZm2vgDkE3v",
        "outputId": "d8de497e-6b7b-4a59-9030-c29cce89d41e"
      },
      "execution_count": 28,
      "outputs": [
        {
          "output_type": "stream",
          "name": "stderr",
          "text": [
            "ERROR:root:Attempted to divide by zero with value: 0\n",
            "ERROR:root:Details of the ZeroDivisionError:\n",
            "Traceback (most recent call last):\n",
            "  File \"<ipython-input-28-d5c3d5c6d0be>\", line 9, in example_function\n",
            "    result = 100 / value\n",
            "             ~~~~^~~~~~~\n",
            "ZeroDivisionError: division by zero\n",
            "ERROR:root:Invalid type for division with value: abc (Type: str)\n",
            "ERROR:root:Details of the TypeError:\n",
            "Traceback (most recent call last):\n",
            "  File \"<ipython-input-28-d5c3d5c6d0be>\", line 9, in example_function\n",
            "    result = 100 / value\n",
            "             ~~~~^~~~~~~\n",
            "TypeError: unsupported operand type(s) for /: 'int' and 'str'\n"
          ]
        },
        {
          "output_type": "stream",
          "name": "stdout",
          "text": [
            "--- Running example_function with a valid value ---\n",
            "\n",
            "--- Running example_function with zero (will cause ZeroDivisionError) ---\n",
            "\n",
            "--- Running example_function with a string (will cause TypeError) ---\n",
            "\n",
            "--- Running example_function with another valid value ---\n"
          ]
        },
        {
          "output_type": "execute_result",
          "data": {
            "text/plain": [
              "4.0"
            ]
          },
          "metadata": {},
          "execution_count": 28
        }
      ]
    },
    {
      "cell_type": "markdown",
      "source": [
        "#Q15. Write a Python program that prints the content of a file and handles the case when the file is empty?"
      ],
      "metadata": {
        "id": "MO2H-7nvkMtf"
      }
    },
    {
      "cell_type": "code",
      "source": [
        "def print_file_content(filename):\n",
        "    \"\"\"\n",
        "    Prints the content of a file, handling the case where the file is empty.\n",
        "\n",
        "    Args:\n",
        "        filename: The path to the file.\n",
        "    \"\"\"\n",
        "    try:\n",
        "        with open(filename, 'r') as file:\n",
        "            content = file.read()\n",
        "            if not content:\n",
        "                print(f\"The file '{filename}' is empty.\")\n",
        "            else:\n",
        "                print(f\"Content of '{filename}':\")\n",
        "                print(content)\n",
        "    except FileNotFoundError:\n",
        "        print(f\"Error: The file '{filename}' was not found.\")\n",
        "    except IOError as e:\n",
        "        print(f\"An I/O error occurred: {e}\")\n",
        "    except Exception as e:\n",
        "        print(f\"An unexpected error occurred: {e}\")\n",
        "\n",
        "# Create a dummy non-empty file for testing\n",
        "non_empty_file = \"non_empty_file.txt\"\n",
        "with open(non_empty_file, \"w\") as f:\n",
        "    f.write(\"This is some content.\")\n",
        "\n",
        "# Create a dummy empty file for testing\n",
        "empty_file = \"empty_file.txt\"\n",
        "with open(empty_file, \"w\") as f:\n",
        "    pass # This creates an empty file\n",
        "\n",
        "# Test with a non-empty file\n",
        "print(\"--- Testing with a non-empty file ---\")\n",
        "print_file_content(non_empty_file)\n",
        "\n",
        "print(\"\\n--- Testing with an empty file ---\")\n",
        "print_file_content(empty_file)\n",
        "\n",
        "print(\"\\n--- Testing with a non-existent file ---\")\n",
        "print_file_content(\"non_existent_file.txt\")"
      ],
      "metadata": {
        "colab": {
          "base_uri": "https://localhost:8080/"
        },
        "id": "jWm90W5pkbsG",
        "outputId": "fbd3a9b2-5caa-4669-bae5-5ddc45ff0456"
      },
      "execution_count": 29,
      "outputs": [
        {
          "output_type": "stream",
          "name": "stdout",
          "text": [
            "--- Testing with a non-empty file ---\n",
            "Content of 'non_empty_file.txt':\n",
            "This is some content.\n",
            "\n",
            "--- Testing with an empty file ---\n",
            "The file 'empty_file.txt' is empty.\n",
            "\n",
            "--- Testing with a non-existent file ---\n",
            "Error: The file 'non_existent_file.txt' was not found.\n"
          ]
        }
      ]
    },
    {
      "cell_type": "markdown",
      "source": [
        "#Q16. Write a Python program to create and write a list of numbers to a file, one number per line?"
      ],
      "metadata": {
        "id": "MO-_Nj8rkhP2"
      }
    },
    {
      "cell_type": "code",
      "source": [
        "numbers = [10, 20, 30, 40, 50]\n",
        "output_filename = \"numbers_list.txt\"\n",
        "try:\n",
        "    with open(output_filename, \"w\") as file:\n",
        "        for number in numbers:\n",
        "            file.write(str(number) + \"\\n\")\n",
        "    print(f\"Successfully wrote the list of numbers to '{output_filename}'\")\n",
        "except IOError as e:\n",
        "    print(f\"An error occurred while writing to the file: {e}\")\n",
        "except Exception as e:\n",
        "    print(f\"An unexpected error occurred: {e}\")"
      ],
      "metadata": {
        "colab": {
          "base_uri": "https://localhost:8080/"
        },
        "id": "6erWD3Zwmndo",
        "outputId": "b7a2fb12-7694-416c-c098-12e956136e4f"
      },
      "execution_count": 37,
      "outputs": [
        {
          "output_type": "stream",
          "name": "stdout",
          "text": [
            "Successfully wrote the list of numbers to 'numbers_list.txt'\n"
          ]
        }
      ]
    },
    {
      "cell_type": "markdown",
      "source": [
        "#Q19. Write a program that handles both IndexError and KeyError using a try-except block."
      ],
      "metadata": {
        "id": "fQIABR_Dn8zk"
      }
    },
    {
      "cell_type": "code",
      "source": [
        "data = [1, 2, 3]\n",
        "my_dict = {'a': 1, 'b': 2, 'c': 3}\n",
        "\n",
        "try:\n",
        "    index = int(input(\"Enter an index for the list: \"))\n",
        "    value = data[index]\n",
        "    print(f\"Value at index {index}: {value}\")\n",
        "\n",
        "    key = input(\"Enter a key for the dictionary: \")\n",
        "    dict_value = my_dict[key]\n",
        "    print(f\"Value for key '{key}': {dict_value}\")\n",
        "\n",
        "except (IndexError, KeyError) as e:\n",
        "    print(f\"Error: {e}\")\n",
        "except ValueError:\n",
        "    print(\"Invalid input. Please enter an integer for the index.\")"
      ],
      "metadata": {
        "colab": {
          "base_uri": "https://localhost:8080/"
        },
        "id": "N7v_3VUkoROT",
        "outputId": "6ae92a36-183d-406d-8b30-6d5abd663933"
      },
      "execution_count": 45,
      "outputs": [
        {
          "output_type": "stream",
          "name": "stdout",
          "text": [
            "Enter an index for the list: 2\n",
            "Value at index 2: 3\n",
            "Enter a key for the dictionary: a\n",
            "Value for key 'a': 1\n"
          ]
        }
      ]
    },
    {
      "cell_type": "markdown",
      "source": [
        "#Q20. How would you open a file and read its contents using a context manager in Python ?"
      ],
      "metadata": {
        "id": "1B0uOO_uopna"
      }
    },
    {
      "cell_type": "code",
      "source": [
        "filename = \"my_file.txt\"\n",
        "\n",
        "try:\n",
        "\n",
        "    with open(filename, 'r') as file:\n",
        "        # Read the entire content of the file\n",
        "        content = file.read()\n",
        "        print(f\"Content of '{filename}':\")\n",
        "        print(content)\n",
        "\n",
        "\n",
        "except FileNotFoundError:\n",
        "\n",
        "    print(f\"Error: The file '{filename}' was not found.\")\n",
        "except IOError as e:\n",
        "\n",
        "    print(f\"An I/O error occurred while trying to read the file: {e}\")\n",
        "except Exception as e:\n",
        "\n",
        "    print(f\"An unexpected error occurred: {e}\")"
      ],
      "metadata": {
        "colab": {
          "base_uri": "https://localhost:8080/"
        },
        "id": "cRDwDuR8o3I5",
        "outputId": "ea1fdc4a-7593-4b81-eca6-1b196f334204"
      },
      "execution_count": 47,
      "outputs": [
        {
          "output_type": "stream",
          "name": "stdout",
          "text": [
            "Error: The file 'my_file.txt' was not found.\n"
          ]
        }
      ]
    },
    {
      "cell_type": "markdown",
      "source": [
        "#Q21. Write a Python program that reads a file and prints the number of occurrences of a specific word."
      ],
      "metadata": {
        "id": "QgILzvbto9rx"
      }
    },
    {
      "cell_type": "code",
      "source": [
        "def count_word_occurrences(filename, word):\n",
        "    \"\"\"\n",
        "    Reads a file and counts the occurrences of a specific word (case-insensitive).\n",
        "\n",
        "    Args:\n",
        "        filename: The path to the file.\n",
        "        word: The word to count.\n",
        "\n",
        "    Returns:\n",
        "        The number of occurrences of the word in the file, or -1 if the file\n",
        "        cannot be read.\n",
        "    \"\"\"\n",
        "    count = 0\n",
        "    try:\n",
        "        with open(filename, 'r') as file:\n",
        "            content = file.read()\n",
        "\n",
        "            count = content.lower().split().count(word.lower())\n",
        "            return count\n",
        "    except FileNotFoundError:\n",
        "        print(f\"Error: The file '{filename}' was not found.\")\n",
        "        return -1\n",
        "    except IOError as e:\n",
        "        print(f\"An I/O error occurred: {e}\")\n",
        "        return -1\n",
        "    except Exception as e:\n",
        "        print(f\"An unexpected error occurred: {e}\")\n",
        "        return -1\n",
        "\n",
        "\n",
        "file_to_analyze = \"example_text_file.txt\"\n",
        "try:\n",
        "    with open(file_to_analyze, \"w\") as f:\n",
        "        f.write(\"This is an example file.\\n\")\n",
        "        f.write(\"This file contains the word example multiple times.\\n\")\n",
        "        f.write(\"Example is a good word. Another EXAMPLE.\")\n",
        "except IOError as e:\n",
        "    print(f\"Error creating dummy file: {e}\")\n",
        "\n",
        "word_to_count = \"example\"\n",
        "occurrence_count = count_word_occurrences(file_to_analyze, word_to_count)\n",
        "\n",
        "if occurrence_count != -1:\n",
        "    print(f\"The word '{word_to_count}' appeared {occurrence_count} times in '{file_to_analyze}'.\")\n",
        "\n",
        "\n",
        "occurrence_count_nonexistent = count_word_occurrences(\"non_existent_file.txt\", \"word\")\n"
      ],
      "metadata": {
        "colab": {
          "base_uri": "https://localhost:8080/"
        },
        "id": "GBJxxkjupKLQ",
        "outputId": "8fb0f9da-c358-4090-8242-f41a8d18b119"
      },
      "execution_count": 48,
      "outputs": [
        {
          "output_type": "stream",
          "name": "stdout",
          "text": [
            "The word 'example' appeared 3 times in 'example_text_file.txt'.\n",
            "Error: The file 'non_existent_file.txt' was not found.\n"
          ]
        }
      ]
    },
    {
      "cell_type": "markdown",
      "source": [
        "#Q22.How can you check if a file is empty before attempting to read its contents."
      ],
      "metadata": {
        "id": "yqYB-L82pRK4"
      }
    },
    {
      "cell_type": "code",
      "source": [
        "def is_file_empty(file_path):\n",
        "  \"\"\"\n",
        "  Checks if a file is empty.\n",
        "\n",
        "  Args:\n",
        "    file_path: The path to the file.\n",
        "\n",
        "  Returns:\n",
        "    True if the file is empty, False otherwise. Returns None if the file doesn't exist or an error occurs.\n",
        "  \"\"\"\n",
        "  if not os.path.exists(file_path):\n",
        "    print(f\"Error: The file '{file_path}' does not exist.\")\n",
        "    return None\n",
        "\n",
        "  try:\n",
        "    # Check file size. An empty file will have a size of 0 bytes.\n",
        "    if os.path.getsize(file_path) == 0:\n",
        "      return True\n",
        "    else:\n",
        "      return False\n",
        "  except OSError as e:\n",
        "    print(f\"Error checking file size for '{file_path}': {e}\")\n",
        "    return None\n",
        "  except Exception as e:\n",
        "    print(f\"An unexpected error occurred while checking if the file is empty: {e}\")\n",
        "    return None\n",
        "\n",
        "# Create a dummy non-empty file for testing\n",
        "non_empty_file = \"non_empty_file_check.txt\"\n",
        "with open(non_empty_file, \"w\") as f:\n",
        "    f.write(\"This is some content.\")\n",
        "\n",
        "# Create a dummy empty file for testing\n",
        "empty_file = \"empty_file_check.txt\"\n",
        "with open(empty_file, \"w\") as f:\n",
        "    pass # This creates an empty file\n",
        "\n",
        "# Test with a non-empty file\n",
        "print(\"--- Checking a non-empty file ---\")\n",
        "if is_file_empty(non_empty_file) is not None:\n",
        "    if is_file_empty(non_empty_file):\n",
        "        print(f\"'{non_empty_file}' is empty.\")\n",
        "    else:\n",
        "        print(f\"'{non_empty_file}' is not empty.\")\n",
        "\n",
        "print(\"\\n--- Checking an empty file ---\")\n",
        "if is_file_empty(empty_file) is not None:\n",
        "    if is_file_empty(empty_file):\n",
        "        print(f\"'{empty_file}' is empty.\")\n",
        "    else:\n",
        "        print(f\"'{empty_file}' is not empty.\")\n",
        "\n",
        "print(\"\\n--- Checking a non-existent file ---\")\n",
        "is_file_empty(\"non_existent_file_for_check.txt\")"
      ],
      "metadata": {
        "colab": {
          "base_uri": "https://localhost:8080/"
        },
        "id": "0aCp3EkhpaLQ",
        "outputId": "a6bb4adf-b6b3-4492-f680-c02486c13dea"
      },
      "execution_count": 49,
      "outputs": [
        {
          "output_type": "stream",
          "name": "stdout",
          "text": [
            "--- Checking a non-empty file ---\n",
            "'non_empty_file_check.txt' is not empty.\n",
            "\n",
            "--- Checking an empty file ---\n",
            "'empty_file_check.txt' is empty.\n",
            "\n",
            "--- Checking a non-existent file ---\n",
            "Error: The file 'non_existent_file_for_check.txt' does not exist.\n"
          ]
        }
      ]
    },
    {
      "cell_type": "markdown",
      "source": [
        "#Q23.Write a Python program that writes to a log file when an error occurs during file handling."
      ],
      "metadata": {
        "id": "SvQ1ZFPYpgcP"
      }
    },
    {
      "cell_type": "code",
      "source": [
        "def write_to_file_with_logging(filename, content):\n",
        "    \"\"\"\n",
        "    Writes content to a file, logging an error if an IOError occurs.\n",
        "\n",
        "    Args:\n",
        "        filename: The path to the file.\n",
        "        content: The string content to write.\n",
        "    \"\"\"\n",
        "    try:\n",
        "        with open(filename, 'w') as file:\n",
        "            file.write(content)\n",
        "        logging.info(f\"Successfully wrote to file: {filename}\")\n",
        "    except IOError as e:\n",
        "        # Log the specific IOError that occurred\n",
        "        logging.error(f\"Error writing to file {filename}: {e}\")\n",
        "        # Log the traceback for more detailed debugging\n",
        "        logging.exception(\"Traceback for file writing error:\")\n",
        "    except Exception as e:\n",
        "        # Catch any other unexpected errors during file handling\n",
        "        logging.error(f\"An unexpected error occurred while handling file {filename}: {e}\")\n",
        "        logging.exception(\"Traceback for unexpected file error:\")\n",
        "\n",
        "\n",
        "# Configure logging to write to a file named 'file_errors.log'\n",
        "# Set level to ERROR to only log error messages and above by default\n",
        "logging.basicConfig(filename='file_errors.log', level=logging.ERROR,\n",
        "                    format='%(asctime)s - %(levelname)s - %(message)s')\n",
        "\n",
        "print(\"--- Attempting to write to a valid file ---\")\n",
        "write_to_file_with_logging(\"successful_write.txt\", \"This is a successful write.\")\n",
        "\n",
        "print(\"\\n--- Attempting to write to a protected file (will cause an error) ---\")\n",
        "# On some systems, writing to the root directory might cause a permission error\n",
        "write_to_file_with_logging(\"/protected_file.txt\", \"This should cause an error.\")\n",
        "\n",
        "print(\"\\n--- Attempting to write with an invalid filename (will cause an error) ---\")\n",
        "write_to_file_with_logging(\"invalid/filename?.txt\", \"This should cause an error.\")\n",
        "\n",
        "print(\"\\nCheck 'file_errors.log' for logged errors.\")\n",
        "\n",
        "# Optional: Read the log file to see the output\n",
        "try:\n",
        "    with open('file_errors.log', 'r') as log_file:\n",
        "        log_content = log_file.read()\n",
        "        print(\"\\n--- Content of file_errors.log ---\")\n",
        "        print(log_content)\n",
        "except FileNotFoundError:\n",
        "    print(\"\\nLog file 'file_errors.log' not found (no errors likely occurred).\")\n",
        "except IOError as e:\n",
        "    print(f\"\\nError reading log file: {e}\")"
      ],
      "metadata": {
        "colab": {
          "base_uri": "https://localhost:8080/"
        },
        "id": "aRLXqfHipnn3",
        "outputId": "d1acf587-3661-4f8c-da29-b98d2dee5591"
      },
      "execution_count": 50,
      "outputs": [
        {
          "output_type": "stream",
          "name": "stderr",
          "text": [
            "INFO:root:Successfully wrote to file: successful_write.txt\n",
            "INFO:root:Successfully wrote to file: /protected_file.txt\n",
            "ERROR:root:Error writing to file invalid/filename?.txt: [Errno 2] No such file or directory: 'invalid/filename?.txt'\n",
            "ERROR:root:Traceback for file writing error:\n",
            "Traceback (most recent call last):\n",
            "  File \"<ipython-input-50-2dd229aec653>\", line 10, in write_to_file_with_logging\n",
            "    with open(filename, 'w') as file:\n",
            "         ^^^^^^^^^^^^^^^^^^^\n",
            "FileNotFoundError: [Errno 2] No such file or directory: 'invalid/filename?.txt'\n"
          ]
        },
        {
          "output_type": "stream",
          "name": "stdout",
          "text": [
            "--- Attempting to write to a valid file ---\n",
            "\n",
            "--- Attempting to write to a protected file (will cause an error) ---\n",
            "\n",
            "--- Attempting to write with an invalid filename (will cause an error) ---\n",
            "\n",
            "Check 'file_errors.log' for logged errors.\n",
            "\n",
            "Log file 'file_errors.log' not found (no errors likely occurred).\n"
          ]
        }
      ]
    }
  ]
}